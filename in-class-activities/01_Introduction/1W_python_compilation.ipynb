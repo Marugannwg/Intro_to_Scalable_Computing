{
  "cells": [
    {
      "attachments": {},
      "cell_type": "markdown",
      "metadata": {
        "colab_type": "text",
        "id": "view-in-github"
      },
      "source": [
        "<a href=\"https://colab.research.google.com/drive/1xp1hk0gnvFQgVD5Avvi7DqoMMlLAJptu?usp=sharing\" target=\"_parent\"><img src=\"https://colab.research.google.com/assets/colab-badge.svg\" alt=\"Open In Colab\"/></a>"
      ]
    },
    {
      "cell_type": "markdown",
      "metadata": {
        "id": "F9rXYh53ysHb"
      },
      "source": [
        "# Compiling Python with `numba` and `cython`\n",
        "\n",
        "Reproduce Python function from lecture and measure its execution time:"
      ]
    },
    {
      "cell_type": "code",
      "execution_count": null,
      "metadata": {
        "collapsed": true,
        "id": "FUFJ7Z3lsWCv"
      },
      "outputs": [],
      "source": [
        "def loop(x, r):\n",
        "    for i in range(r):\n",
        "        x *= 2.5\n",
        "    return x\n",
        "\n",
        "%time loop(2, 10**6)"
      ]
    },
    {
      "cell_type": "markdown",
      "metadata": {
        "id": "wRHr2CYb2gvC"
      },
      "source": [
        "## Using `numba`\n",
        "\n",
        "First, let's try compiling \"Just in Time\" using `numba`:"
      ]
    },
    {
      "cell_type": "code",
      "execution_count": null,
      "metadata": {
        "id": "iTPC0twnsGpc"
      },
      "outputs": [],
      "source": [
        "from numba import jit\n",
        "\n",
        "# jit compiles when we call the function for the first time\n",
        "# nopython tries to run without involving Python interpreter\n",
        "@jit(nopython=True)\n",
        "def loop_jit(x, r):\n",
        "  for i in range(r):\n",
        "    x *= 2.5\n",
        "  return x\n",
        "\n",
        "%time loop_jit(2, 10**6) # includes compilation time"
      ]
    },
    {
      "cell_type": "code",
      "execution_count": null,
      "metadata": {
        "id": "xUnhxUOnsrt8"
      },
      "outputs": [],
      "source": [
        "%time loop_jit(2, 10**6) # much faster after compilation"
      ]
    },
    {
      "cell_type": "code",
      "execution_count": null,
      "metadata": {
        "id": "eXibv5les8UY"
      },
      "outputs": [],
      "source": [
        "%timeit loop(2, 10**6) # better to time across multiple runs using `timeit`"
      ]
    },
    {
      "cell_type": "code",
      "execution_count": null,
      "metadata": {
        "id": "uWgsB-Y1tKrR"
      },
      "outputs": [],
      "source": [
        "%timeit loop_jit(2, 10**6)"
      ]
    },
    {
      "cell_type": "markdown",
      "metadata": {
        "id": "NTCtAE38vffd"
      },
      "source": [
        "We might want to compile our code ahead of time, though, so that we can see a speed-up the first time we use it. `numba` allows us to compile ahead of time like so:\n"
      ]
    },
    {
      "cell_type": "code",
      "execution_count": 6,
      "metadata": {
        "id": "EZiha2zLtN3n"
      },
      "outputs": [],
      "source": [
        "from numba.pycc import CC\n",
        "\n",
        "# name of compiled module to create:\n",
        "cc = CC('test_aot')\n",
        "\n",
        "# name of function in module, with explicit data types required (4byte=32bit ints and floats)\n",
        "@cc.export('loop_aot', 'f4(f4,i4)')\n",
        "def loop_aot(x, r):\n",
        "    for i in range(r):\n",
        "        x *= 2.5\n",
        "    return x\n",
        "\n",
        "cc.compile()"
      ]
    },
    {
      "cell_type": "markdown",
      "metadata": {
        "id": "vAIwPxFhu_W2"
      },
      "source": [
        "Note that we now have a compiled object file (.so) in our current directory. This is a compiled module that contains our function."
      ]
    },
    {
      "cell_type": "code",
      "execution_count": null,
      "metadata": {
        "id": "sPvmIS5wtWGE"
      },
      "outputs": [],
      "source": [
        "ls"
      ]
    },
    {
      "cell_type": "markdown",
      "metadata": {
        "id": "GtNEHRzvvVb6"
      },
      "source": [
        "To use our function, we just need to import our pre-compiled module, as we would any other Python module:"
      ]
    },
    {
      "cell_type": "code",
      "execution_count": null,
      "metadata": {
        "id": "6dPwBf_ytXbg"
      },
      "outputs": [],
      "source": [
        "import test_aot\n",
        "%time test_aot.loop_aot(2, 10**6) # first time running it is fast this time"
      ]
    },
    {
      "cell_type": "code",
      "execution_count": null,
      "metadata": {
        "id": "sf5zuvi2tdHv"
      },
      "outputs": [],
      "source": [
        "%timeit test_aot.loop_aot(2, 10**6) # same overall performance as before"
      ]
    },
    {
      "cell_type": "markdown",
      "metadata": {
        "id": "eo0Sp3F4uQpI"
      },
      "source": [
        "## Using `cython`\n",
        "\n",
        "Another common way to compile Python code (albeit slightly uglier) is to compile our function via explicit `cython` static typing, like so (here, using the IPython `cython` extension to compile):"
      ]
    },
    {
      "cell_type": "code",
      "execution_count": 10,
      "metadata": {
        "id": "pPYSIMqjtdnk"
      },
      "outputs": [],
      "source": [
        "%load_ext cython"
      ]
    },
    {
      "cell_type": "code",
      "execution_count": 11,
      "metadata": {
        "id": "sil1uDsgtzJW"
      },
      "outputs": [],
      "source": [
        "# will automatically convert Python -> C -> Compiled machine code\n",
        "%%cython \n",
        "\n",
        "# explicitly add static types to function itself:\n",
        "def loop_cython(float x, int r):\n",
        "    cdef int i\n",
        "    for i in range(r):\n",
        "        x *= 2.5\n",
        "    return x"
      ]
    },
    {
      "cell_type": "code",
      "execution_count": null,
      "metadata": {
        "id": "JnDHKnJqt57y"
      },
      "outputs": [],
      "source": [
        "%timeit loop_cython(2, 10**6) # comparable performance to numba"
      ]
    }
  ],
  "metadata": {
    "colab": {
      "authorship_tag": "ABX9TyOdThdtia2sCzmQY/OdsUf1",
      "collapsed_sections": [],
      "include_colab_link": true,
      "name": "1W_python_compilation",
      "provenance": []
    },
    "kernelspec": {
      "display_name": "Python 3",
      "name": "python3"
    },
    "language_info": {
      "name": "python"
    }
  },
  "nbformat": 4,
  "nbformat_minor": 0
}
